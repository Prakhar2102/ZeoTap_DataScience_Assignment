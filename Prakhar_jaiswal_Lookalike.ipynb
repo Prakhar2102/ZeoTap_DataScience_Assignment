{
  "nbformat": 4,
  "nbformat_minor": 0,
  "metadata": {
    "colab": {
      "provenance": []
    },
    "kernelspec": {
      "name": "python3",
      "display_name": "Python 3"
    },
    "language_info": {
      "name": "python"
    }
  },
  "cells": [
    {
      "cell_type": "code",
      "execution_count": 1,
      "metadata": {
        "id": "bnfKlWozHvLP"
      },
      "outputs": [],
      "source": [
        "import pandas as pd\n",
        "import numpy as np\n",
        "import matplotlib.pyplot as plt\n",
        "import seaborn as sns"
      ]
    },
    {
      "cell_type": "code",
      "source": [
        "customers = pd.read_csv(\"https://drive.google.com/uc?id=1bu_--mo79VdUG9oin4ybfFGRUSXAe-WE\")\n",
        "products = pd.read_csv(\"https://drive.google.com/uc?id=1IKuDizVapw-hyktwfpoAoaGtHtTNHfd0\")\n",
        "transactions = pd.read_csv(\"https://drive.google.com/uc?id=1saEqdbBB-vuk2hxoAf4TzDEsykdKlzbF\")"
      ],
      "metadata": {
        "id": "42Yto9IgH5M9"
      },
      "execution_count": 2,
      "outputs": []
    },
    {
      "cell_type": "code",
      "source": [
        "\n",
        "customers[\"SignupDate\"] = pd.to_datetime(customers[\"SignupDate\"])\n",
        "transactions[\"TransactionDate\"] = pd.to_datetime(transactions[\"TransactionDate\"])\n",
        "\n",
        "merged_data = transactions.merge(customers, on=\"CustomerID\", how=\"left\")\n",
        "merged_data = merged_data.merge(products, on=\"ProductID\", how=\"left\")\n",
        "merged_data[\"Year\"] = merged_data[\"TransactionDate\"].dt.year\n",
        "merged_data[\"Month\"] = merged_data[\"TransactionDate\"].dt.month\n",
        "merged_data[\"SignupYear\"] = merged_data[\"SignupDate\"].dt.year\n",
        "merged_data[\"AverageOrderValue\"] = merged_data[\"TotalValue\"] / merged_data[\"Quantity\"]\n",
        "\n",
        "print(\"\\nMerged Data Preview:\")\n",
        "print(merged_data.head())"
      ],
      "metadata": {
        "colab": {
          "base_uri": "https://localhost:8080/"
        },
        "id": "wIf5vlnpH5ij",
        "outputId": "34973665-5a6d-4f23-c83c-f554e11055a4"
      },
      "execution_count": 3,
      "outputs": [
        {
          "output_type": "stream",
          "name": "stdout",
          "text": [
            "\n",
            "Merged Data Preview:\n",
            "  TransactionID CustomerID ProductID     TransactionDate  Quantity  \\\n",
            "0        T00001      C0199      P067 2024-08-25 12:38:23         1   \n",
            "1        T00112      C0146      P067 2024-05-27 22:23:54         1   \n",
            "2        T00166      C0127      P067 2024-04-25 07:38:55         1   \n",
            "3        T00272      C0087      P067 2024-03-26 22:55:37         2   \n",
            "4        T00363      C0070      P067 2024-03-21 15:10:10         3   \n",
            "\n",
            "   TotalValue  Price_x     CustomerName         Region SignupDate  \\\n",
            "0      300.68   300.68   Andrea Jenkins         Europe 2022-12-03   \n",
            "1      300.68   300.68  Brittany Harvey           Asia 2024-09-04   \n",
            "2      300.68   300.68  Kathryn Stevens         Europe 2024-04-04   \n",
            "3      601.36   300.68  Travis Campbell  South America 2024-04-11   \n",
            "4      902.04   300.68    Timothy Perez         Europe 2022-03-15   \n",
            "\n",
            "                       ProductName     Category  Price_y  Year  Month  \\\n",
            "0  ComfortLiving Bluetooth Speaker  Electronics   300.68  2024      8   \n",
            "1  ComfortLiving Bluetooth Speaker  Electronics   300.68  2024      5   \n",
            "2  ComfortLiving Bluetooth Speaker  Electronics   300.68  2024      4   \n",
            "3  ComfortLiving Bluetooth Speaker  Electronics   300.68  2024      3   \n",
            "4  ComfortLiving Bluetooth Speaker  Electronics   300.68  2024      3   \n",
            "\n",
            "   SignupYear  AverageOrderValue  \n",
            "0        2022             300.68  \n",
            "1        2024             300.68  \n",
            "2        2024             300.68  \n",
            "3        2024             300.68  \n",
            "4        2022             300.68  \n"
          ]
        }
      ]
    },
    {
      "cell_type": "code",
      "source": [
        "from sklearn.metrics.pairwise import cosine_similarity\n",
        "from sklearn.preprocessing import StandardScaler"
      ],
      "metadata": {
        "id": "nTizoda8IIox"
      },
      "execution_count": 4,
      "outputs": []
    },
    {
      "cell_type": "code",
      "source": [
        "#customer features\n",
        "customer_features = merged_data.groupby(\"CustomerID\").agg({\n",
        "    \"TotalValue\": \"sum\",\n",
        "    \"Quantity\": \"sum\",\n",
        "    \"AverageOrderValue\": \"mean\",\n",
        "    \"Category\": lambda x: x.mode()[0] if len(x.mode()) > 0 else None\n",
        "}).reset_index()\n",
        "\n",
        "\n",
        "customer_features = pd.get_dummies(customer_features, columns=[\"Category\"], drop_first=True)\n",
        "\n",
        "scaler = StandardScaler()\n",
        "scaled_features = scaler.fit_transform(customer_features.iloc[:, 1:])\n",
        "\n",
        "# Calculate similarity using cosine similarity\n",
        "similarity_matrix = cosine_similarity(scaled_features)\n",
        "\n",
        "# Find top 3 similar customers for CustomerID C0001 to C0020\n",
        "lookalike_results = {}\n",
        "customer_ids = customer_features[\"CustomerID\"].tolist()\n",
        "\n",
        "for idx, customer_id in enumerate(customer_ids[:20]):\n",
        "    similarity_scores = list(enumerate(similarity_matrix[idx]))\n",
        "    similarity_scores = sorted(similarity_scores, key=lambda x: x[1], reverse=True)\n",
        "    top_3 = [(customer_ids[i], score) for i, score in similarity_scores[1:4]]  # Exclude self-match\n",
        "    lookalike_results[customer_id] = top_3\n",
        "\n",
        "lookalike_df = pd.DataFrame({\n",
        "    \"CustomerID\": lookalike_results.keys(),\n",
        "    \"Lookalikes\": [str(v) for v in lookalike_results.values()]\n",
        "})\n",
        "lookalike_df.to_csv(\"Prakhar_Jaiswal_Lookalike.csv\", index=False)\n",
        "\n",
        "print(\"\\nLookalike Results for First 20 Customers:\")\n",
        "print(lookalike_df.head(20))\n"
      ],
      "metadata": {
        "colab": {
          "base_uri": "https://localhost:8080/"
        },
        "id": "-bwsTKLDILVB",
        "outputId": "fb423c01-6657-41f3-c7dd-c1bc81836d78"
      },
      "execution_count": 5,
      "outputs": [
        {
          "output_type": "stream",
          "name": "stdout",
          "text": [
            "\n",
            "Lookalike Results for First 20 Customers:\n",
            "   CustomerID                                         Lookalikes\n",
            "0       C0001  [('C0069', 0.9793686796401265), ('C0154', 0.97...\n",
            "1       C0002  [('C0029', 0.9998668269037813), ('C0088', 0.99...\n",
            "2       C0003  [('C0038', 0.997287341359637), ('C0160', 0.971...\n",
            "3       C0004  [('C0075', 0.9899044859613366), ('C0165', 0.98...\n",
            "4       C0005  [('C0192', 0.9974346831629687), ('C0140', 0.99...\n",
            "5       C0006  [('C0187', 0.9517660052079885), ('C0117', 0.94...\n",
            "6       C0007  [('C0146', 0.9973951578946069), ('C0115', 0.97...\n",
            "7       C0008  [('C0113', 0.9896572363853194), ('C0136', 0.98...\n",
            "8       C0009  [('C0150', 0.9974912743459965), ('C0061', 0.96...\n",
            "9       C0010  [('C0176', 0.9788396644427603), ('C0144', 0.97...\n",
            "10      C0011  [('C0139', 0.9912275180493367), ('C0064', 0.98...\n",
            "11      C0012  [('C0182', 0.9916958094005028), ('C0163', 0.98...\n",
            "12      C0013  [('C0099', 0.9845345921152222), ('C0145', 0.97...\n",
            "13      C0014  [('C0097', 0.9978978523383679), ('C0025', 0.95...\n",
            "14      C0015  [('C0131', 0.974579470951372), ('C0085', 0.947...\n",
            "15      C0016  [('C0040', 0.9995629814072501), ('C0042', 0.94...\n",
            "16      C0017  [('C0004', 0.9812605794346421), ('C0075', 0.97...\n",
            "17      C0018  [('C0153', 0.9814139715922638), ('C0057', 0.97...\n",
            "18      C0019  [('C0073', 0.9859197013652036), ('C0027', 0.97...\n",
            "19      C0020  [('C0130', 0.9977582822135534), ('C0140', 0.98...\n"
          ]
        }
      ]
    },
    {
      "cell_type": "code",
      "source": [],
      "metadata": {
        "id": "iQYWN_g7INmv"
      },
      "execution_count": null,
      "outputs": []
    }
  ]
}